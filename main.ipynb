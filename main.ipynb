{
 "cells": [
  {
   "cell_type": "code",
   "execution_count": 10,
   "metadata": {},
   "outputs": [],
   "source": [
    "probability_of_success = 0.02\n",
    "number_of_sample = 1000\n",
    "## find or determine the chance that out of 1000 persons more than 3 will suffer a bad reaction\n",
    "from scipy.stats import poisson"
   ]
  },
  {
   "cell_type": "code",
   "execution_count": 9,
   "metadata": {},
   "outputs": [
    {
     "name": "stdout",
     "output_type": "stream",
     "text": [
      "20.0\n"
     ]
    }
   ],
   "source": [
    "lambda_ = number_of_sample * probability_of_success\n",
    "print(lambda_)"
   ]
  },
  {
   "cell_type": "code",
   "execution_count": 11,
   "metadata": {},
   "outputs": [],
   "source": [
    "p_0 = poisson.pmf(0,lambda_)\n",
    "p_1 = poisson.pmf(1,lambda_)\n",
    "p_2 = poisson.pmf(2,lambda_)\n",
    "p_3 = poisson.pmf(3,lambda_)"
   ]
  },
  {
   "cell_type": "code",
   "execution_count": 12,
   "metadata": {},
   "outputs": [
    {
     "name": "stdout",
     "output_type": "stream",
     "text": [
      "The probability of X = 0 is 2.061153622438558e-09\n",
      "The probability of X = 1 is 4.122307244877113e-08\n",
      "The probability of X = 2 is 4.122307244877118e-07\n",
      "The probability of X = 3 is 2.7482048299180785e-06\n"
     ]
    }
   ],
   "source": [
    "print(F\"The probability of X = 0 is {p_0}\")\n",
    "print(F\"The probability of X = 1 is {p_1}\")\n",
    "print(F\"The probability of X = 2 is {p_2}\")\n",
    "print(F\"The probability of X = 3 is {p_3}\")"
   ]
  },
  {
   "cell_type": "code",
   "execution_count": 14,
   "metadata": {},
   "outputs": [],
   "source": [
    "total_probability = p_0 + p_1 + p_2 + p_3"
   ]
  },
  {
   "cell_type": "code",
   "execution_count": 16,
   "metadata": {},
   "outputs": [
    {
     "name": "stdout",
     "output_type": "stream",
     "text": [
      "the total probability of not more than 3 bad reaction is 3.203719780477e-06\n"
     ]
    }
   ],
   "source": [
    "print(f\"the total probability of not more than 3 bad reaction is {total_probability}\")"
   ]
  }
 ],
 "metadata": {
  "kernelspec": {
   "display_name": "Python 3",
   "language": "python",
   "name": "python3"
  },
  "language_info": {
   "codemirror_mode": {
    "name": "ipython",
    "version": 3
   },
   "file_extension": ".py",
   "mimetype": "text/x-python",
   "name": "python",
   "nbconvert_exporter": "python",
   "pygments_lexer": "ipython3",
   "version": "3.10.11"
  }
 },
 "nbformat": 4,
 "nbformat_minor": 2
}
